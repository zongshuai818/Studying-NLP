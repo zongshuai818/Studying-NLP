{
 "cells": [
  {
   "cell_type": "markdown",
   "metadata": {},
   "source": [
    "## fastText新闻文本分类\n",
    "\n",
    "### 准备\n",
    "1、安装[fasttext](https://github.com/facebookresearch/fastText)\n",
    "\n",
    "2、新闻数据集：[清华文本分类数据集 1.5GB](https://thunlp.oss-cn-qingdao.aliyuncs.com/THUCNews.zip)\n",
    "\n",
    "数据集名字改一下，方便程序读取 ['affairs','constellation','economic','edu','ent','fashion','game','home','house','lottery','science','sports','society','stock']\n",
    "\n",
    "3、预处理数据:\n",
    "```\n",
    "python3 processing.py\n",
    "```\n",
    "\n",
    "预处理后的数据[下载](https://pan.baidu.com/s/1JXUIqhIu09AaIxDwa-eQKw)（xmye）"
   ]
  },
  {
   "cell_type": "markdown",
   "metadata": {},
   "source": [
    "### 训练"
   ]
  },
  {
   "cell_type": "code",
   "execution_count": 1,
   "metadata": {},
   "outputs": [],
   "source": [
    "import fasttext\n",
    "import time"
   ]
  },
  {
   "cell_type": "code",
   "execution_count": 2,
   "metadata": {},
   "outputs": [
    {
     "name": "stdout",
     "output_type": "stream",
     "text": [
      "训练完成，运行时间:16.13秒\n"
     ]
    }
   ],
   "source": [
    "start = time.time()\n",
    "\n",
    "classifier = fasttext.train_supervised('news_fasttext_train.txt', label_prefix = '__label__')\n",
    "\n",
    "print('训练完成，运行时间:%.2f秒'%(time.time()-start))\n",
    "classifier.save_model(\"model_file.bin\")\n"
   ]
  },
  {
   "cell_type": "markdown",
   "metadata": {},
   "source": [
    "### 测试"
   ]
  },
  {
   "cell_type": "code",
   "execution_count": 3,
   "metadata": {},
   "outputs": [
    {
     "name": "stdout",
     "output_type": "stream",
     "text": [
      "(58368, 0.9271861293859649, 0.9271861293859649)\n"
     ]
    }
   ],
   "source": [
    "result = classifier.test('news_fasttext_test.txt')\n",
    "print(result)"
   ]
  },
  {
   "cell_type": "code",
   "execution_count": 11,
   "metadata": {},
   "outputs": [
    {
     "name": "stdout",
     "output_type": "stream",
     "text": [
      "['__label__home', '__label__game', '__label__economic', '__label__lottery', '__label__sports', '__label__science', '__label__stock', '__label__constellation', '__label__society', '__label__fashion', '__label__edu', '__label__ent', '__label__house', '__label__affairs']\n",
      "['economic', 'society', 'affairs', 'fashion', 'sports', 'home', 'ent', 'science', 'game', 'edu', 'stock', 'house']\n",
      "\n",
      "预测正确的各个类的数目: {'economic': 4589, 'society': 4538, 'affairs': 4544, 'fashion': 3224, 'sports': 4821, 'home': 4681, 'ent': 4741, 'science': 4403, 'game': 4658, 'edu': 4691, 'stock': 4553, 'house': 4675}\n",
      "\n",
      "测试数据集中各个类的数目: {'economic': 5000, 'society': 5000, 'affairs': 5000, 'fashion': 3368, 'sports': 5000, 'home': 5000, 'ent': 5000, 'science': 5000, 'game': 5000, 'edu': 5000, 'stock': 5000, 'house': 5000}\n",
      "\n",
      "预测结果中各个类的数目: {'__label__home': 4984, '__label__game': 4813, '__label__economic': 4934, '__label__lottery': 73, '__label__sports': 4915, '__label__science': 4996, '__label__stock': 5052, '__label__constellation': 55, '__label__society': 5200, '__label__fashion': 3436, '__label__edu': 4936, '__label__ent': 5118, '__label__house': 4884, '__label__affairs': 4972}\n",
      "\n",
      "economic:\t p:0.930077\t r:0.917800\t f:0.923898\n",
      "society:\t p:0.872692\t r:0.907600\t f:0.889804\n",
      "affairs:\t p:0.913918\t r:0.908800\t f:0.911352\n",
      "fashion:\t p:0.938300\t r:0.957245\t f:0.947678\n",
      "sports:\t p:0.980875\t r:0.964200\t f:0.972466\n",
      "home:\t p:0.939205\t r:0.936200\t f:0.937700\n",
      "ent:\t p:0.926338\t r:0.948200\t f:0.937142\n",
      "science:\t p:0.881305\t r:0.880600\t f:0.880952\n",
      "game:\t p:0.967796\t r:0.931600\t f:0.949353\n",
      "edu:\t p:0.950365\t r:0.938200\t f:0.944243\n",
      "stock:\t p:0.901227\t r:0.910600\t f:0.905889\n",
      "house:\t p:0.957207\t r:0.935000\t f:0.945973\n"
     ]
    }
   ],
   "source": [
    "labels_right = []\n",
    "texts = []\n",
    "with open(\"news_fasttext_test.txt\") as fr:\n",
    "    for line in fr:\n",
    "        line = str(line.encode(\"utf-8\"), 'utf-8').rstrip()\n",
    "        labels_right.append(line.split(\"\\t\")[1].replace(\"__label__\",\"\"))\n",
    "        texts.append(line.split(\"\\t\")[0])\n",
    "    #     print labels\n",
    "    #     print texts\n",
    "#     break\n",
    "labels_predict = [term[0] for term in classifier.predict(texts)[0]] #预测输出结果为二维形式\n",
    "# print labels_predict\n",
    "\n",
    "text_labels = list(set(labels_right))\n",
    "text_predict_labels = list(set(labels_predict))\n",
    "print(text_predict_labels)\n",
    "print(text_labels)\n",
    "print()\n",
    "\n",
    "A = dict.fromkeys(text_labels,0)  #预测正确的各个类的数目\n",
    "B = dict.fromkeys(text_labels,0)   #测试数据集中各个类的数目\n",
    "C = dict.fromkeys(text_predict_labels,0) #预测结果中各个类的数目\n",
    "for i in range(0,len(labels_right)):\n",
    "    B[labels_right[i]] += 1\n",
    "    C[labels_predict[i]] += 1\n",
    "    if labels_right[i] == labels_predict[i].replace('__label__', ''):\n",
    "        A[labels_right[i]] += 1\n",
    "\n",
    "print('预测正确的各个类的数目:', A) \n",
    "print()\n",
    "print('测试数据集中各个类的数目:', B)\n",
    "print()\n",
    "print('预测结果中各个类的数目:', C)\n",
    "print()\n",
    "#计算准确率，召回率，F值\n",
    "for key in B:\n",
    "    try:\n",
    "        r = float(A[key]) / float(B[key])\n",
    "        p = float(A[key]) / float(C['__label__' + key])\n",
    "        f = p * r * 2 / (p + r)\n",
    "        print(\"%s:\\t p:%f\\t r:%f\\t f:%f\" % (key,p,r,f))\n",
    "    except:\n",
    "        print(\"error:\", key, \"right:\", A.get(key,0), \"real:\", B.get(key,0), \"predict:\",C.get(key,0))"
   ]
  },
  {
   "cell_type": "markdown",
   "metadata": {},
   "source": [
    "#### fasttext的result中只有测试结果的总体数据，还可以[统计详细数据](https://github.com/NLP-LOVE/ML-NLP/blob/master/NLP/16.2%20fastText/fastText.ipynb)"
   ]
  },
  {
   "cell_type": "markdown",
   "metadata": {},
   "source": [
    "\n",
    "### Ref\n",
    "* [ML-NLP-16.2 fastText](https://github.com/NLP-LOVE/ML-NLP/tree/master/NLP/16.2%20fastText)"
   ]
  }
 ],
 "metadata": {
  "kernelspec": {
   "display_name": "Python 3",
   "language": "python",
   "name": "python3"
  },
  "language_info": {
   "codemirror_mode": {
    "name": "ipython",
    "version": 3
   },
   "file_extension": ".py",
   "mimetype": "text/x-python",
   "name": "python",
   "nbconvert_exporter": "python",
   "pygments_lexer": "ipython3",
   "version": "3.6.9"
  }
 },
 "nbformat": 4,
 "nbformat_minor": 4
}
