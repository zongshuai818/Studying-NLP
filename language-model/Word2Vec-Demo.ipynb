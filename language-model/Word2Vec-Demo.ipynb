{
 "cells": [
  {
   "cell_type": "markdown",
   "metadata": {},
   "source": [
    "## Word2Vec mini demo\n",
    "\n",
    "![](./img/word2vec-model.jpg)"
   ]
  },
  {
   "cell_type": "code",
   "execution_count": 1,
   "metadata": {},
   "outputs": [],
   "source": [
    "import numpy as np\n",
    "import torch\n",
    "import torch.nn as nn\n",
    "import torch.optim as optim\n",
    "from torch.autograd import Variable"
   ]
  },
  {
   "cell_type": "code",
   "execution_count": 2,
   "metadata": {},
   "outputs": [],
   "source": [
    "dtype = torch.FloatTensor"
   ]
  },
  {
   "cell_type": "code",
   "execution_count": 3,
   "metadata": {},
   "outputs": [],
   "source": [
    "sentences = [ \"i like dog\", \"i like cat\", \"i like animal\",\n",
    "              \"dog cat animal\", \"apple cat dog like\", \"dog fish milk like\",\n",
    "              \"dog cat eyes like\", \"i like apple\", \"apple i hate\",\n",
    "              \"apple i movie book music like\", \"cat dog hate\", \"cat dog like\"]\n",
    "# 实际的例子： \n",
    "#sentences = [ \"i like dog\", \n",
    "#              \"i love cat\", \n",
    "#              \"i like animal\",\n",
    "#              \"i love xr\",\n",
    "#              \"i love you\",\n",
    "#             ]"
   ]
  },
  {
   "cell_type": "code",
   "execution_count": 4,
   "metadata": {},
   "outputs": [],
   "source": [
    "word_sequence = \" \".join(sentences).split()\n",
    "word_set = list(set(word_sequence))\n",
    "word_dict = {w:i for i,w in enumerate(word_set)}"
   ]
  },
  {
   "cell_type": "code",
   "execution_count": 5,
   "metadata": {},
   "outputs": [
    {
     "name": "stdout",
     "output_type": "stream",
     "text": [
      "{'animal': 0, 'like': 1, 'book': 2, 'fish': 3, 'hate': 4, 'dog': 5, 'apple': 6, 'cat': 7, 'milk': 8, 'i': 9, 'movie': 10, 'music': 11, 'eyes': 12}\n",
      "False\n",
      "False\n"
     ]
    }
   ],
   "source": [
    "# 制作skip-gram数据\n",
    "\n",
    "# 方法1: 参考方法，contex有问题：两句话之间不应该被连在一起\n",
    "skip_grams1 = []\n",
    "for i in range(1,len(word_sequence)-1):\n",
    "    target = word_dict[word_sequence[i]]\n",
    "    # 这个contex采集有问题，两句话之间不应该被连在一起\n",
    "    contex = [word_dict[word_sequence[i-1]],word_dict[word_sequence[i+1]]]\n",
    "    for w in contex:\n",
    "        skip_grams1.append([target, w])\n",
    "\n",
    "# 方法2: 只在一个句子中采集contex      \n",
    "skip_grams2 = []\n",
    "for s in sentences:\n",
    "    words = s.split()\n",
    "    for i in range(len(words)-1):\n",
    "        target = word_dict[words[i]]\n",
    "        contex = word_dict[words[i+1]]\n",
    "        # 正反序都要\n",
    "        skip_grams2.append([target,contex])\n",
    "        skip_grams2.append([contex,target])\n",
    "        \n",
    "print(word_dict)\n",
    "print([10,4]  in skip_grams1)\n",
    "print([10,4]  in skip_grams2)"
   ]
  },
  {
   "cell_type": "code",
   "execution_count": 6,
   "metadata": {},
   "outputs": [],
   "source": [
    "# word2vec参数\n",
    "voc_size = len(word_dict)\n",
    "embedding_size = 2  # 可调参数\n",
    "batch_size = 20 # 训练参数"
   ]
  },
  {
   "cell_type": "code",
   "execution_count": 7,
   "metadata": {},
   "outputs": [],
   "source": [
    "# data：skip_gram\n",
    "# size: batch_size\n",
    "# return: list[]\n",
    "def random_batch(data,size):\n",
    "    random_inputs = []\n",
    "    random_labels = []\n",
    "    random_index = np.random.choice(range(len(data)), size, replace=False)\n",
    "    for i in random_index:\n",
    "        data_in = np.eye(voc_size)[data[i][0]]\n",
    "        data_target = data[i][1]\n",
    "        random_inputs.append(data_in)\n",
    "        random_labels.append(data_target)\n",
    "    return random_inputs,random_labels"
   ]
  },
  {
   "cell_type": "code",
   "execution_count": 8,
   "metadata": {},
   "outputs": [],
   "source": [
    "class Word2Vec(nn.Module):\n",
    "    def __init__(self):\n",
    "        super(Word2Vec,self).__init__()\n",
    "        self.W = nn.Parameter(torch.randn(voc_size, embedding_size)).type(dtype)\n",
    "        self.WT = nn.Parameter(torch.randn(embedding_size, voc_size)).type(dtype)\n",
    "    \n",
    "    def forward(self, X):\n",
    "        # X: [batch_size, voc_size] 后者是onehot向量\n",
    "        # [batch_size, voc_size] * [voc_size, embedding_size] = [batch_size, embedding_size]\n",
    "        hidden = torch.mm(X,self.W)\n",
    "        \n",
    "        # [batch_size, embedding_size] * [embedding_size, voc_size] = [batch_size, voc_size]\n",
    "        output = torch.mm(hidden, self.WT)\n",
    "        return output"
   ]
  },
  {
   "cell_type": "code",
   "execution_count": 9,
   "metadata": {},
   "outputs": [],
   "source": [
    "model = Word2Vec()\n",
    "criterion = nn.CrossEntropyLoss()\n",
    "optimizer = optim.Adam(model.parameters(), lr=0.001)"
   ]
  },
  {
   "cell_type": "code",
   "execution_count": 10,
   "metadata": {},
   "outputs": [
    {
     "name": "stdout",
     "output_type": "stream",
     "text": [
      "Epoch: 1000 cost = 2.246277\n",
      "Epoch: 2000 cost = 1.892726\n",
      "Epoch: 3000 cost = 1.451808\n",
      "Epoch: 4000 cost = 1.558031\n",
      "Epoch: 5000 cost = 1.801924\n"
     ]
    }
   ],
   "source": [
    "epochs = 5001\n",
    "for e in range(epochs):\n",
    "    # 这里用第二种获取skip-gram的方法\n",
    "    in_batch, target_batch = random_batch(skip_grams2,batch_size)\n",
    "    in_batch = Variable(torch.Tensor(in_batch)) # 注意数据类型\n",
    "    target_batch = Variable(torch.LongTensor(target_batch))\n",
    "    optimizer.zero_grad()\n",
    "    output = model(in_batch)\n",
    "    loss = criterion(output, target_batch)\n",
    "    \n",
    "    if (e + 1)%1000 == 0:\n",
    "        print('Epoch:', '%04d' % (e + 1), 'cost =', '{:.6f}'.format(loss))\n",
    "\n",
    "    loss.backward()\n",
    "    optimizer.step()"
   ]
  },
  {
   "cell_type": "code",
   "execution_count": 12,
   "metadata": {},
   "outputs": [
    {
     "data": {
      "image/png": "[encoded data removed]",
      "text/plain": [
       "<Figure size 432x288 with 1 Axes>"
      ]
     },
     "metadata": {
      "needs_background": "light"
     },
     "output_type": "display_data"
    }
   ],
   "source": [
    "# 可视化\n",
    "import matplotlib.pyplot as plt\n",
    "W,WT = model.parameters()\n",
    "for word_str in word_dict:\n",
    "    word_index = word_dict[word_str]\n",
    "    word_embedding = W[word_index]\n",
    "    x = float(word_embedding.data[0])\n",
    "    y = float(word_embedding.data[1])\n",
    "    plt.scatter(x, y)\n",
    "    plt.annotate(word_str, xy=(x, y), xytext=(5, 2), textcoords='offset points', ha='right', va='bottom')\n",
    "plt.show()    "
   ]
  },
  {
   "cell_type": "markdown",
   "metadata": {},
   "source": [
    "### Reference\n",
    "\n",
    "* [ nlp-tutorial](https://github.com/graykode/nlp-tutorial)"
   ]
  },
  {
   "cell_type": "code",
   "execution_count": null,
   "metadata": {},
   "outputs": [],
   "source": []
  }
 ],
 "metadata": {
  "kernelspec": {
   "display_name": "Python 3",
   "language": "python",
   "name": "python3"
  },
  "language_info": {
   "codemirror_mode": {
    "name": "ipython",
    "version": 3
   },
   "file_extension": ".py",
   "mimetype": "text/x-python",
   "name": "python",
   "nbconvert_exporter": "python",
   "pygments_lexer": "ipython3",
   "version": "3.7.4"
  }
 },
 "nbformat": 4,
 "nbformat_minor": 2
}
