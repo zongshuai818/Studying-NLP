{
 "cells": [
  {
   "cell_type": "markdown",
   "metadata": {},
   "source": [
    "## NNLM mini demo\n",
    "\n",
    "![](./img/nnlm-model.jpg)"
   ]
  },
  {
   "cell_type": "code",
   "execution_count": 1,
   "metadata": {},
   "outputs": [],
   "source": [
    "import numpy as np\n",
    "import torch\n",
    "import torch.nn as nn\n",
    "import torch.optim as optim\n",
    "from torch.autograd import Variable"
   ]
  },
  {
   "cell_type": "code",
   "execution_count": 2,
   "metadata": {},
   "outputs": [],
   "source": [
    "# 数据类型\n",
    "dtype = torch.FloatTensor"
   ]
  },
  {
   "cell_type": "code",
   "execution_count": 3,
   "metadata": {},
   "outputs": [],
   "source": [
    "# 训练数据预处理\n",
    "sentences = [ \"i like dog\", \"i love coffee\", \"i hate milk\"]\n",
    "word_list = ' '.join(sentences).split()\n",
    "word_list = list(set(word_list))\n",
    "word_dict = {w:i for i,w in enumerate(word_list)}\n",
    "number_dict = {i:w for i,w in enumerate(word_list)}\n",
    "n_class = len(number_dict)"
   ]
  },
  {
   "cell_type": "code",
   "execution_count": 4,
   "metadata": {},
   "outputs": [],
   "source": [
    "# 函数：制作训练数据\n",
    "def make_batch(sentences):\n",
    "    input_batch, target_batch = [],[]\n",
    "    for sen in sentences:\n",
    "        words = sen.split()\n",
    "        input_sen = [word_dict[w] for w in words[:-1]]\n",
    "        target = word_dict[words[-1]] # 注意维数一致\n",
    "        input_batch.append(input_sen)\n",
    "        target_batch.append(target)\n",
    "    return input_batch,target_batch"
   ]
  },
  {
   "cell_type": "code",
   "execution_count": 5,
   "metadata": {},
   "outputs": [],
   "source": [
    "# NNLM参数\n",
    "n_step = 2 # 用前面n_step个词来预测后面的词，可根据任务调参\n",
    "n_hidden = 3 # 隐藏层单元个数，可调参数\n",
    "m = 2 # 单词的特征向量维数，可调参数"
   ]
  },
  {
   "cell_type": "markdown",
   "metadata": {},
   "source": [
    "![](./img/nnlm-paramters.jpg)"
   ]
  },
  {
   "cell_type": "code",
   "execution_count": 6,
   "metadata": {},
   "outputs": [],
   "source": [
    "# 模型定义\n",
    "class NNLM(nn.Module):\n",
    "    def __init__(self):\n",
    "        super(NNLM,self).__init__()\n",
    "        # 定义参数大小时候先不考虑batchsize\n",
    "        self.C = nn.Embedding(n_class, m)\n",
    "        self.H = nn.Parameter(torch.randn(n_step*m, n_hidden).type(dtype))\n",
    "        self.d = nn.Parameter(torch.randn(n_hidden).type(dtype))\n",
    "        self.b = nn.Parameter(torch.randn(n_class).type(dtype))        \n",
    "        self.W = nn.Parameter(torch.randn(n_step * m, n_class).type(dtype))\n",
    "        self.U = nn.Parameter(torch.randn(n_hidden, n_class).type(dtype))\n",
    "\n",
    "    def forward(self, X):\n",
    "        # batch_size不确定，故x在与参数矩阵相乘时，x在前面\n",
    "        \n",
    "        # [batch_size, n_step, m]\n",
    "        X = self.C(X) \n",
    "        \n",
    "        # [batch_size, n_step, m]-->[batch_size, n_step * m] \n",
    "        # 把一个句子的前n个词的表示拉平\n",
    "        X = X.view(-1, n_step * m) \n",
    "        \n",
    "        # [batch_size, n_step * m] * [n_step*m, n_hidden] + d = [batch_size,n_hidden]\n",
    "        tanh = torch.tanh(self.d + torch.mm(X, self.H))\n",
    "        \n",
    "        # b [batch_size, n_class]\n",
    "        # [batch_size, n_step * m]* [n_step * m, n_class] = [batch_size, n_class]\n",
    "        # [batch_size,n_hidden] * [n_hidden,n_class]\n",
    "        output = self.b + torch.mm(X,self.W) + torch.mm(tanh, self.U)\n",
    "        return output\n"
   ]
  },
  {
   "cell_type": "code",
   "execution_count": 7,
   "metadata": {},
   "outputs": [],
   "source": [
    "model = NNLM()\n",
    "criterion = nn.CrossEntropyLoss()\n",
    "optimizer = optim.Adam(model.parameters(), lr=0.001)"
   ]
  },
  {
   "cell_type": "code",
   "execution_count": 8,
   "metadata": {},
   "outputs": [],
   "source": [
    "input_batch, target_batch = make_batch(sentences)\n",
    "input_batch_tensor = Variable(torch.LongTensor(input_batch))\n",
    "target_batch_tensor = Variable(torch.LongTensor(target_batch))"
   ]
  },
  {
   "cell_type": "code",
   "execution_count": 9,
   "metadata": {},
   "outputs": [
    {
     "name": "stdout",
     "output_type": "stream",
     "text": [
      "Epoch: 1000 cost = 0.122461\n",
      "Epoch: 2000 cost = 0.015361\n",
      "Epoch: 3000 cost = 0.004809\n",
      "Epoch: 4000 cost = 0.002055\n",
      "Epoch: 5000 cost = 0.001008\n"
     ]
    }
   ],
   "source": [
    "epochs = 5000\n",
    "for e in range(epochs):\n",
    "    optimizer.zero_grad()\n",
    "    output = model(input_batch_tensor) # [batch_size, n_class]\n",
    "    loss = criterion(output, target_batch_tensor) # target_batch: [batch_size]\n",
    "    \n",
    "    if (e + 1)%1000 == 0:\n",
    "        print('Epoch:', '%04d' % (e + 1), 'cost =', '{:.6f}'.format(loss))\n",
    "    \n",
    "    loss.backward()\n",
    "    optimizer.step()    "
   ]
  },
  {
   "cell_type": "code",
   "execution_count": 10,
   "metadata": {},
   "outputs": [
    {
     "name": "stdout",
     "output_type": "stream",
     "text": [
      "tensor([[2],\n",
      "        [5],\n",
      "        [1]])\n"
     ]
    }
   ],
   "source": [
    "predict = model(input_batch_tensor).data.max(1,keepdim=True)[1]\n",
    "print(predict)"
   ]
  },
  {
   "cell_type": "code",
   "execution_count": 11,
   "metadata": {},
   "outputs": [
    {
     "name": "stdout",
     "output_type": "stream",
     "text": [
      "i like --> dog\n",
      "i love --> coffee\n",
      "i hate --> milk\n"
     ]
    }
   ],
   "source": [
    "for i,input_item in enumerate(input_batch):\n",
    "    print(' '.join( [number_dict[index] for index in input_item]),end=' --> ')\n",
    "    print(number_dict[predict[i].item()])"
   ]
  },
  {
   "cell_type": "code",
   "execution_count": null,
   "metadata": {},
   "outputs": [],
   "source": []
  }
 ],
 "metadata": {
  "kernelspec": {
   "display_name": "Python 3",
   "language": "python",
   "name": "python3"
  },
  "language_info": {
   "codemirror_mode": {
    "name": "ipython",
    "version": 3
   },
   "file_extension": ".py",
   "mimetype": "text/x-python",
   "name": "python",
   "nbconvert_exporter": "python",
   "pygments_lexer": "ipython3",
   "version": "3.7.4"
  }
 },
 "nbformat": 4,
 "nbformat_minor": 2
}
